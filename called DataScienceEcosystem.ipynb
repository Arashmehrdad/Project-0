{
 "cells": [
  {
   "cell_type": "markdown",
   "id": "7b382d30-799f-41ae-af31-454e4835cc16",
   "metadata": {},
   "source": [
    "# Data Science Tools and Ecosystem"
   ]
  },
  {
   "cell_type": "markdown",
   "id": "18d17df8-f9fe-4a72-a760-69db88dbab57",
   "metadata": {
    "tags": []
   },
   "source": [
    "## In this notebook, Data Science Tools and Ecosystem are summarized."
   ]
  },
  {
   "cell_type": "markdown",
   "id": "8b1c4d6d-bd9b-4e4a-9d99-40178437dbc4",
   "metadata": {
    "tags": []
   },
   "source": [
    "**Objectives:**\n",
    "\n",
    "- List popular languages for Data Science.\n",
    "- Some of the commonly used libraries used by Data Scientists.\n",
    "- evaluating arithmetic expressions in Python."
   ]
  },
  {
   "cell_type": "markdown",
   "id": "b8f13ce3-183d-49f3-a636-65ff8a874d96",
   "metadata": {
    "tags": []
   },
   "source": [
    "### Some of the popular languages that Data Scientists use are:"
   ]
  },
  {
   "cell_type": "markdown",
   "id": "44659574-aaa3-4361-8c91-80de5f71e5c7",
   "metadata": {},
   "source": [
    "1. Python\n",
    "2. R\n",
    "3. SQL\n",
    "4. Julia\n",
    "5. Scala\n"
   ]
  },
  {
   "cell_type": "markdown",
   "id": "c1fcb9e5-42d9-43ac-9c0a-f9244c9295d7",
   "metadata": {},
   "source": [
    "### Some of the commonly used libraries used by Data Scientists include:"
   ]
  },
  {
   "cell_type": "markdown",
   "id": "ecd1c230-be0f-4239-a7ac-9a15a9411928",
   "metadata": {},
   "source": [
    "1. Pandas \n",
    "2. NumPy \n",
    "3. Scikit-learn \n",
    "4. TensorFlow \n",
    "5. Keras \n",
    "6. Matplotlib\n",
    "7. Seaborn \n",
    "8. ggplot2 \n",
    "9. caret "
   ]
  },
  {
   "cell_type": "markdown",
   "id": "14713676-fd61-4477-ac25-b4a00a7d0b65",
   "metadata": {},
   "source": [
    "<div align=\"left\">\n",
    "\n",
    "| Data Science Tools   |\n",
    "|----------------------|\n",
    "| Jupyter Notebooks    |\n",
    "| RStudio              |\n",
    "| PyCharm              |\n",
    "| Visual Studio        |\n",
    "| Spyder               |\n",
    "\n",
    "</div>"
   ]
  },
  {
   "cell_type": "markdown",
   "id": "ccf5f6f5-bea4-44f6-a2eb-3802ab0ff92b",
   "metadata": {},
   "source": [
    "### Below are a few examples of evaluating arithmetic expressions in Python"
   ]
  },
  {
   "cell_type": "code",
   "execution_count": 19,
   "id": "3033b22a-a342-4b27-914f-b079864535c0",
   "metadata": {
    "tags": []
   },
   "outputs": [
    {
     "name": "stdout",
     "output_type": "stream",
     "text": [
      "17\n"
     ]
    }
   ],
   "source": [
    "# This is a simple arithmetic expression to multiply then add integers.\n",
    "result = (3 * 4) + 5\n",
    "print(result)\n"
   ]
  },
  {
   "cell_type": "code",
   "execution_count": 21,
   "id": "e00a79ba-ad1d-4966-8d8a-cebf0ef54209",
   "metadata": {
    "tags": []
   },
   "outputs": [
    {
     "name": "stdout",
     "output_type": "stream",
     "text": [
      "3.3333333333333335\n"
     ]
    }
   ],
   "source": [
    "# This will convert 200 minutes to hours by dividing by 60.\n",
    "minutes = 200\n",
    "hours = minutes / 60\n",
    "print(hours)"
   ]
  },
  {
   "cell_type": "markdown",
   "id": "17ef4e66-c609-413f-92fc-0dc88e1435bc",
   "metadata": {},
   "source": [
    "## Author\n",
    "\n",
    "Arash Mehrdad"
   ]
  },
  {
   "cell_type": "code",
   "execution_count": null,
   "id": "78b724b6-ed96-4dc4-b874-488f0c54aa80",
   "metadata": {},
   "outputs": [],
   "source": []
  }
 ],
 "metadata": {
  "kernelspec": {
   "display_name": "Python 3 (ipykernel)",
   "language": "python",
   "name": "python3"
  },
  "language_info": {
   "codemirror_mode": {
    "name": "ipython",
    "version": 3
   },
   "file_extension": ".py",
   "mimetype": "text/x-python",
   "name": "python",
   "nbconvert_exporter": "python",
   "pygments_lexer": "ipython3",
   "version": "3.11.7"
  }
 },
 "nbformat": 4,
 "nbformat_minor": 5
}
